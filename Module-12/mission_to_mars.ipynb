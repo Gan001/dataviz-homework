{
 "cells": [
  {
   "cell_type": "code",
   "execution_count": 4,
   "metadata": {},
   "outputs": [],
   "source": [
    "from splinter import Browser\n",
    "from bs4 import BeautifulSoup as bs"
   ]
  },
  {
   "cell_type": "code",
   "execution_count": 2,
   "metadata": {},
   "outputs": [],
   "source": [
    "executable_path = {'executable_path': 'chromedriver.exe'}\n",
    "browser = Browser('chrome', **executable_path, headless=False)"
   ]
  },
  {
   "cell_type": "code",
   "execution_count": 3,
   "metadata": {},
   "outputs": [],
   "source": [
    "url = 'https://mars.nasa.gov/news/?page=0&per_page=40&order=publish_date+desc%2Ccreated_at+desc&search=&category=19%2C165%2C184%2C204&blank_scope=Latest'\n",
    "browser.visit(url)"
   ]
  },
  {
   "cell_type": "code",
   "execution_count": 5,
   "metadata": {},
   "outputs": [],
   "source": [
    "html = browser.html\n",
    "soup = bs(html, \"html.parser\")"
   ]
  },
  {
   "cell_type": "code",
   "execution_count": 13,
   "metadata": {},
   "outputs": [
    {
     "name": "stdout",
     "output_type": "stream",
     "text": [
      "Title: Things Are Stacking up for NASA's Mars 2020 Spacecraft\n",
      "P: As the July 2020 launch date inches closer, the next spacecraft headed to the Red Planet is assembled for more testing.\n"
     ]
    }
   ],
   "source": [
    "#Scrape first news title\n",
    "news_title = soup.find_all(\"div\", class_=\"content_title\")\n",
    "first_news_title = news_title[0].text\n",
    "\n",
    "#Scrape news p\n",
    "news_p = soup.find_all(\"div\", class_=\"article_teaser_body\")\n",
    "first_news_p = news_p[0].text\n",
    "print(f\"Title: {first_news_title}\")\n",
    "print(f\"P: {first_news_p}\")"
   ]
  },
  {
   "cell_type": "code",
   "execution_count": 15,
   "metadata": {},
   "outputs": [],
   "source": [
    "url = 'https://www.jpl.nasa.gov/spaceimages/?search=&category=Mars'\n",
    "browser.visit(url)"
   ]
  },
  {
   "cell_type": "code",
   "execution_count": 25,
   "metadata": {},
   "outputs": [
    {
     "name": "stdout",
     "output_type": "stream",
     "text": [
      "\n",
      "\t\t\t  <div class=\"default floating_text_area ms-layer\">\n",
      "\t\t\t\t<h2 class=\"category_title\">\n",
      "\t\t\t\t  \n",
      "\t\t\t\t</h2>\n",
      "\t\t\t\t<h2 class=\"brand_title\">\n",
      "\t\t\t\t  FEATURED IMAGE\n",
      "\t\t\t\t</h2>\n",
      "\t\t\t\t<h1 class=\"media_feature_title\">\n",
      "\t\t\t\t  Crystal-Laden Martian Rock Examined by Curiosity's Laser Instrument\t\t\t\t</h1>\n",
      "\t\t\t\t<div class=\"description\">\n",
      "\t\t\t\t  \n",
      "\t\t\t\t</div>\n",
      "\t\t\t\t<footer>\n",
      "\t\t\t\t  <a class=\"button fancybox\" data-description=\"As NASA's Mars rover Curiosity is progressing toward Mount Sharp, researchers are using the rover's RIM and ChemCam instruments to examine soils and rocks in Gale Crater.\" data-fancybox-group=\"images\" data-fancybox-href=\"/spaceimages/images/mediumsize/PIA17767_ip.jpg\" data-link=\"/spaceimages/details.php?id=PIA17767\" data-title=\"Crystal-Laden Martian Rock Examined by Curiosity's Laser Instrument\" id=\"full_image\">\n",
      "\t\t\t\t\tFULL IMAGE\n",
      "\t\t\t\t  </a>\n",
      "\t\t\t\t</footer>\n",
      "\t\t\t  </div>\n",
      "\t\t\t  <div class=\"gradient_container_top\"></div>\n",
      "\t\t\t  <div class=\"gradient_container_bottom\"></div>\n",
      "\t\t\t\n"
     ]
    }
   ],
   "source": [
    "featured_image_url= browser.find_by_css(\".carousel_item\")\n",
    "print(featured_image_url[0].html)\n",
    "image_html = featured_image_url[0].html"
   ]
  },
  {
   "cell_type": "code",
   "execution_count": 28,
   "metadata": {},
   "outputs": [
    {
     "data": {
      "text/plain": [
       "'/spaceimages/images/mediumsize/PIA17767_ip.jpg'"
      ]
     },
     "execution_count": 28,
     "metadata": {},
     "output_type": "execute_result"
    }
   ],
   "source": [
    "image_soup = bs(image_html, \"html.parser\")\n",
    "featured_image = image_soup.a.get(\"data-fancybox-href\")\n",
    "featured_image"
   ]
  },
  {
   "cell_type": "code",
   "execution_count": null,
   "metadata": {},
   "outputs": [],
   "source": []
  },
  {
   "cell_type": "code",
   "execution_count": null,
   "metadata": {},
   "outputs": [],
   "source": []
  }
 ],
 "metadata": {
  "kernelspec": {
   "display_name": "Python 3",
   "language": "python",
   "name": "python3"
  },
  "language_info": {
   "codemirror_mode": {
    "name": "ipython",
    "version": 3
   },
   "file_extension": ".py",
   "mimetype": "text/x-python",
   "name": "python",
   "nbconvert_exporter": "python",
   "pygments_lexer": "ipython3",
   "version": "3.6.7"
  }
 },
 "nbformat": 4,
 "nbformat_minor": 2
}
